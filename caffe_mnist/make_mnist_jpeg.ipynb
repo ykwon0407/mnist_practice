{
 "cells": [
  {
   "cell_type": "code",
   "execution_count": 1,
   "metadata": {
    "collapsed": false
   },
   "outputs": [],
   "source": [
    "import caffe\n",
    "import lmdb\n",
    "import numpy as np\n",
    "import matplotlib.pyplot as plt\n",
    "from caffe.proto import caffe_pb2\n",
    "import Image\n",
    "%matplotlib inline"
   ]
  },
  {
   "cell_type": "code",
   "execution_count": 2,
   "metadata": {
    "collapsed": false
   },
   "outputs": [],
   "source": [
    "def make_jpeg(file_ = './mnist_train_lmdb/', TRAIN = True):\n",
    "    lmdb_file = file_\n",
    "    lmdb_env = lmdb.open(lmdb_file)\n",
    "    lmdb_txn = lmdb_env.begin()\n",
    "    lmdb_cursor = lmdb_txn.cursor()\n",
    "    datum = caffe_pb2.Datum()\n",
    "    count = 0\n",
    "    for key, value in lmdb_cursor:\n",
    "        count += 1\n",
    "        datum.ParseFromString(value)\n",
    "        file_name= '{:0>5}'.format(count)\n",
    "        label = datum.label\n",
    "        data = caffe.io.datum_to_array(datum)\n",
    "        im = data.astype(np.uint8)\n",
    "\n",
    "        folder = 'train' if TRAIN else 'test'\n",
    "        img = Image.fromarray(im[0])\n",
    "        img.save(\"{}/{}.jpeg\".format(folder, file_name))"
   ]
  },
  {
   "cell_type": "code",
   "execution_count": 3,
   "metadata": {
    "collapsed": true
   },
   "outputs": [],
   "source": [
    "make_jpeg()\n",
    "make_jpeg(file_ = './mnist_test_lmdb/', TRAIN = False)"
   ]
  },
  {
   "cell_type": "code",
   "execution_count": null,
   "metadata": {
    "collapsed": true
   },
   "outputs": [],
   "source": []
  }
 ],
 "metadata": {
  "kernelspec": {
   "display_name": "Python 2",
   "language": "python",
   "name": "python2"
  },
  "language_info": {
   "codemirror_mode": {
    "name": "ipython",
    "version": 2
   },
   "file_extension": ".py",
   "mimetype": "text/x-python",
   "name": "python",
   "nbconvert_exporter": "python",
   "pygments_lexer": "ipython2",
   "version": "2.7.6"
  }
 },
 "nbformat": 4,
 "nbformat_minor": 0
}
